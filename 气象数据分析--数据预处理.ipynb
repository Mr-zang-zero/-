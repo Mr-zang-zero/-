{
 "cells": [
  {
   "cell_type": "code",
   "execution_count": 13,
   "metadata": {},
   "outputs": [],
   "source": [
    "import os\n",
    "import glob\n",
    "from datetime import datetime\n",
    "\n",
    "import numpy as np\n",
    "import pandas as pd\n",
    "\n",
    "import matplotlib.pyplot as plt\n",
    "\n",
    "import seaborn as sns"
   ]
  },
  {
   "cell_type": "markdown",
   "metadata": {},
   "source": [
    "## 数据准备\n",
    "### 方式一"
   ]
  },
  {
   "cell_type": "code",
   "execution_count": 2,
   "metadata": {},
   "outputs": [],
   "source": [
    "files = glob.glob(os.path.join('../Desktop/201802/', '*.xlsx'))\n",
    "\n",
    "datas = pd.DataFrame()\n",
    "dates = []\n",
    "\n",
    "for f in sorted(files):\n",
    "    data = pd.read_excel(f, index_col=0)\n",
    "    date = datetime.strptime(os.path.splitext(os.path.split(f)[1])[0], '%Y%m%d%H')\n",
    "    dates.append([date]*data.shape[0]) # 确定每一个文件中有多少条目，创建多少个时间\n",
    "    datas = datas.append(data)\n",
    "\n",
    "datas.index = np.ravel(np.array(dates))"
   ]
  },
  {
   "cell_type": "markdown",
   "metadata": {},
   "source": [
    "os.path.split   分离文件名称和文件后缀\n",
    "\n",
    "os.path.splitext  分离路径和文件名"
   ]
  },
  {
   "cell_type": "code",
   "execution_count": 3,
   "metadata": {},
   "outputs": [
    {
     "data": {
      "text/html": [
       "<div>\n",
       "<style scoped>\n",
       "    .dataframe tbody tr th:only-of-type {\n",
       "        vertical-align: middle;\n",
       "    }\n",
       "\n",
       "    .dataframe tbody tr th {\n",
       "        vertical-align: top;\n",
       "    }\n",
       "\n",
       "    .dataframe thead th {\n",
       "        text-align: right;\n",
       "    }\n",
       "</style>\n",
       "<table border=\"1\" class=\"dataframe\">\n",
       "  <thead>\n",
       "    <tr style=\"text-align: right;\">\n",
       "      <th></th>\n",
       "      <th>日期时间</th>\n",
       "      <th>经度</th>\n",
       "      <th>纬度</th>\n",
       "      <th>风速</th>\n",
       "      <th>风向</th>\n",
       "    </tr>\n",
       "  </thead>\n",
       "  <tbody>\n",
       "    <tr>\n",
       "      <th>2018-02-01</th>\n",
       "      <td>2.018020e+09</td>\n",
       "      <td>116.585472</td>\n",
       "      <td>35.414513</td>\n",
       "      <td>0.3</td>\n",
       "      <td>195.2</td>\n",
       "    </tr>\n",
       "    <tr>\n",
       "      <th>2018-02-01</th>\n",
       "      <td>2.018020e+09</td>\n",
       "      <td>116.585472</td>\n",
       "      <td>35.414513</td>\n",
       "      <td>0.3</td>\n",
       "      <td>195.2</td>\n",
       "    </tr>\n",
       "    <tr>\n",
       "      <th>2018-02-01</th>\n",
       "      <td>2.018020e+09</td>\n",
       "      <td>116.625526</td>\n",
       "      <td>35.429825</td>\n",
       "      <td>0.4</td>\n",
       "      <td>117.0</td>\n",
       "    </tr>\n",
       "    <tr>\n",
       "      <th>2018-02-01</th>\n",
       "      <td>2.018020e+09</td>\n",
       "      <td>116.625526</td>\n",
       "      <td>35.429825</td>\n",
       "      <td>0.4</td>\n",
       "      <td>117.0</td>\n",
       "    </tr>\n",
       "    <tr>\n",
       "      <th>2018-02-01</th>\n",
       "      <td>2.018020e+09</td>\n",
       "      <td>116.585472</td>\n",
       "      <td>35.414513</td>\n",
       "      <td>0.3</td>\n",
       "      <td>195.2</td>\n",
       "    </tr>\n",
       "  </tbody>\n",
       "</table>\n",
       "</div>"
      ],
      "text/plain": [
       "                    日期时间          经度         纬度   风速     风向\n",
       "2018-02-01  2.018020e+09  116.585472  35.414513  0.3  195.2\n",
       "2018-02-01  2.018020e+09  116.585472  35.414513  0.3  195.2\n",
       "2018-02-01  2.018020e+09  116.625526  35.429825  0.4  117.0\n",
       "2018-02-01  2.018020e+09  116.625526  35.429825  0.4  117.0\n",
       "2018-02-01  2.018020e+09  116.585472  35.414513  0.3  195.2"
      ]
     },
     "execution_count": 3,
     "metadata": {},
     "output_type": "execute_result"
    }
   ],
   "source": [
    "datas[['日期时间', '经度', '纬度', '风速', '风向']].head()"
   ]
  },
  {
   "cell_type": "markdown",
   "metadata": {},
   "source": [
    "从上述输出的信息可以发现，其实原始数据中是包含时间信息的，这时候不需要根据文件名进行时间信息的处理，上面只是为了进行说明，进行了单独的处理。\n",
    "原始数据的时间格式是: 2018020101，这种格式的时间转换方式一中已经提到了：datetime.strptime('2018020101', '%Y%m%d%H')"
   ]
  },
  {
   "cell_type": "code",
   "execution_count": 4,
   "metadata": {},
   "outputs": [
    {
     "data": {
      "text/plain": [
       "datetime.datetime(2018, 2, 1, 1, 0)"
      ]
     },
     "execution_count": 4,
     "metadata": {},
     "output_type": "execute_result"
    }
   ],
   "source": [
    "datetime.strptime('2018020101', '%Y%m%d%H')"
   ]
  },
  {
   "cell_type": "markdown",
   "metadata": {},
   "source": [
    "### 注意：\n",
    "防止数据缺失导致时间索引出现缺失，需要对处理后的数据进行重新索引"
   ]
  },
  {
   "cell_type": "code",
   "execution_count": null,
   "metadata": {},
   "outputs": [],
   "source": []
  },
  {
   "cell_type": "markdown",
   "metadata": {},
   "source": [
    "### 方式二"
   ]
  },
  {
   "cell_type": "code",
   "execution_count": 7,
   "metadata": {},
   "outputs": [
    {
     "name": "stdout",
     "output_type": "stream",
     "text": [
      "../Desktop/201802/2018022620.xlsx 缺失.\n"
     ]
    }
   ],
   "source": [
    "fp = r'../Desktop/201802/'\n",
    "\n",
    "dates = pd.date_range(datetime(2018, 2, 1, 0), datetime(2018, 2, 28, 23), freq='1h')\n",
    "fpfas = [os.path.join(fp, '%d%02d%02d%02d.xlsx'%(date.year, date.month, date.day, date.hour)) for date in dates]\n",
    "\n",
    "alldata = pd.DataFrame()\n",
    "\n",
    "for fpf in fpfas:\n",
    "    try:\n",
    "        data = pd.read_excel(fpf, index_col=0)\n",
    "        alldata = alldata.append(data)\n",
    "    except:\n",
    "        print('%s 缺失.'%fpf)"
   ]
  },
  {
   "cell_type": "code",
   "execution_count": null,
   "metadata": {},
   "outputs": [],
   "source": []
  },
  {
   "cell_type": "markdown",
   "metadata": {},
   "source": [
    "### 站点分布"
   ]
  },
  {
   "cell_type": "code",
   "execution_count": 10,
   "metadata": {},
   "outputs": [
    {
     "data": {
      "text/plain": [
       "<matplotlib.collections.PathCollection at 0x10d285518>"
      ]
     },
     "execution_count": 10,
     "metadata": {},
     "output_type": "execute_result"
    },
    {
     "data": {
      "image/png": "[encoded data removed]",
      "text/plain": [
       "<Figure size 864x648 with 1 Axes>"
      ]
     },
     "metadata": {},
     "output_type": "display_data"
    }
   ],
   "source": [
    "stas = alldata[['对应站点', '经度', '纬度']].drop_duplicates()\n",
    "\n",
    "fig, ax = plt.subplots(figsize=(12, 9))\n",
    "\n",
    "ax.scatter(stas['经度'], stas['纬度'], 10)"
   ]
  },
  {
   "cell_type": "markdown",
   "metadata": {},
   "source": [
    "### 检查站点是否存在位置迁移"
   ]
  },
  {
   "cell_type": "code",
   "execution_count": 11,
   "metadata": {},
   "outputs": [],
   "source": [
    "def check_unique(data, cond, column):\n",
    "    '''检查唯一性\n",
    "    '''\n",
    "    \n",
    "    for con in cond:\n",
    "        if data['经度'][data[column] == con].nunique() != 1 or data['纬度'][data[column] == con].nunique() != 1:\n",
    "            print('请检查 %s %s.'%(column, con))    "
   ]
  },
  {
   "cell_type": "code",
   "execution_count": 12,
   "metadata": {},
   "outputs": [],
   "source": [
    "alldata = alldata[~alldata['所属乡镇'].isin(alldata[alldata['对应站点'].isnull()]['所属乡镇'].unique())]\n",
    "\n",
    "alldata = alldata[['日期时间', '对应站点', '经度', '纬度', '风速', '风向']]\n",
    "\n",
    "alldata.drop_duplicates(inplace=True)\n",
    "\n",
    "stations = alldata['对应站点'].unique()\n",
    "## 检查所有站点经纬度坐标是否一致，如果不一致是明显错误还是站点迁移\n",
    "check_unique(alldata, stations, '对应站点')  "
   ]
  },
  {
   "cell_type": "markdown",
   "metadata": {},
   "source": [
    "运行结束之后没有输出任何信息，表明所有站点没有迁移记录"
   ]
  },
  {
   "cell_type": "markdown",
   "metadata": {},
   "source": [
    "### 风速和风向值分布"
   ]
  },
  {
   "cell_type": "code",
   "execution_count": 15,
   "metadata": {},
   "outputs": [],
   "source": [
    "spds = alldata[['日期时间', '风速']]\n",
    "dirs = alldata[['日期时间', '风向']]\n",
    "\n",
    "spds = spds.dropna()\n",
    "dirs = dirs.dropna()\n",
    "\n",
    "spds['日期时间'] = spds['日期时间'].astype(np.int).astype(np.str_)\n",
    "spds['日期时间'] = pd.to_datetime(spds['日期时间'], format='%Y%m%d%H')\n",
    "\n",
    "dirs['日期时间'] = dirs['日期时间'].astype(np.int).astype(np.str_)\n",
    "dirs['日期时间'] = pd.to_datetime(dirs['日期时间'], format='%Y%m%d%H')\n",
    "\n",
    "spds.index = spds['日期时间']\n",
    "dirs.index = dirs['日期时间']"
   ]
  },
  {
   "cell_type": "code",
   "execution_count": 17,
   "metadata": {},
   "outputs": [
    {
     "data": {
      "image/png": "[encoded data removed]",
      "text/plain": [
       "<Figure size 864x648 with 1 Axes>"
      ]
     },
     "metadata": {},
     "output_type": "display_data"
    }
   ],
   "source": [
    "fig, ax = plt.subplots(figsize=(12, 9))\n",
    "\n",
    "sns.violinplot(data=spds, y='风速', color='#5f5f5f', bw=.2, cut=1, linewidth=.5, ax=ax)\n",
    "\n",
    "fig.savefig('spds_boxplot.png', dpi=600, bbox_inches='tight')"
   ]
  },
  {
   "cell_type": "code",
   "execution_count": 18,
   "metadata": {},
   "outputs": [
    {
     "data": {
      "image/png": "[encoded data removed]",
      "text/plain": [
       "<Figure size 864x648 with 1 Axes>"
      ]
     },
     "metadata": {},
     "output_type": "display_data"
    }
   ],
   "source": [
    "fig, ax = plt.subplots(figsize=(12, 9))\n",
    "\n",
    "sns.violinplot(data=dirs, y='风向', color='#5ba3d0', bw=.2, cut=1, linewidth=.5, ax=ax)\n",
    "\n",
    "fig.savefig('dirs_boxplot.png', dpi=600, bbox_inches='tight')"
   ]
  },
  {
   "cell_type": "code",
   "execution_count": null,
   "metadata": {},
   "outputs": [],
   "source": [
    "subd = pd.DataFrame(index=stations, columns=['经度', '纬度', '缺失值个数'])\n",
    "for i in stations:\n",
    "    subd['经度'][i] = alldata[alldata['对应站点'] == i]['经度'].unique()[0]\n",
    "    subd['纬度'][i] = alldata[alldata['对应站点'] == i]['纬度'].unique()[0]\n",
    "    subd['缺失值个数'][i] = alldata[alldata['对应站点'] == i]['风速'].isnull().sum()\n",
    "    print('%s 共有 %d 个缺失值.'%(i, alldata[alldata['对应站点'] == i]['风速'].isnull().sum()))"
   ]
  },
  {
   "cell_type": "code",
   "execution_count": null,
   "metadata": {},
   "outputs": [],
   "source": [
    "subd2 = subd.sort_values(by='缺失值个数', ascending=False)\n",
    "\n",
    "fig, ax = plt.subplots(figsize=(30, 6))\n",
    "\n",
    "subd2.plot(ax=ax)\n",
    "\n",
    "ax.set_xlim([-2, subd2.shape[0]])\n",
    "\n",
    "ax.set_xticks(np.arange(subd2.shape[0]))\n",
    "ax.set_xticklabels(subd2.index.values, fontdict=dict(fontsize=10), rotation=90)\n",
    "\n",
    "fig.savefig('各站点风速缺失值情况.png', dpi=600, bbox_inches='tight')"
   ]
  },
  {
   "cell_type": "markdown",
   "metadata": {},
   "source": [
    "检查了风向和风速的值分布情况之后，需要检查各站点风向和风速数据的缺失情况，为了更为直观可以绘图查看，有时候根据不同的需要可能需要绘制单站时间序列形式的数据缺失情况，这个需要针对不同的分析要求进行处理"
   ]
  },
  {
   "cell_type": "code",
   "execution_count": 19,
   "metadata": {},
   "outputs": [],
   "source": [
    "def check_outlier(data, stations, columns, values):\n",
    "    '''检查异常值\n",
    "    \n",
    "    参数说明\n",
    "        data : 需要进行异常值检查的数据\n",
    "        stations : 站点名称\n",
    "        columns : 需要检查的列\n",
    "        values : 对应列的阈值，超出阈值即为异常\n",
    "    '''\n",
    "    \n",
    "    for col, value in zip(columns, values):\n",
    "        print('开始验证 %s: '%col)\n",
    "        for sta in stations:\n",
    "            try:\n",
    "                print('当前站点: %s.'%sta)\n",
    "                subs = data[data['对应站点'] == sta][col].reindex(dates)\n",
    "                diff = subs.diff().abs() > value\n",
    "\n",
    "                print('以下是可能出现的异常数据:')\n",
    "                print(subs[diff])\n",
    "                print('-------------------------------------')\n",
    "            except:\n",
    "                print('检查站点: %s 时出现问题.'%sta)"
   ]
  },
  {
   "cell_type": "markdown",
   "metadata": {},
   "source": [
    "这是一个简单的风速异常值检测方法，简单的检查相邻两个时刻风速差值的绝对值，如果绝对值大于某一个阈值就认为风速异常，这种情况对于时间分辨率比较高且数据缺失不是很多的情况，如果数据缺失较多或者时间分辨率很低，则不适合使用这种方法进行检测\n",
    "\n",
    "比如将阈值设为15 m/s，如果相邻两个时刻的风速差绝对值大于15 m/s，则认为风速异常。"
   ]
  },
  {
   "cell_type": "code",
   "execution_count": null,
   "metadata": {},
   "outputs": [],
   "source": [
    "check_outlier(alldata, stations, ['风速'], [15])"
   ]
  },
  {
   "cell_type": "code",
   "execution_count": null,
   "metadata": {},
   "outputs": [],
   "source": []
  }
 ],
 "metadata": {
  "kernelspec": {
   "display_name": "Python 3",
   "language": "python",
   "name": "python3"
  },
  "language_info": {
   "codemirror_mode": {
    "name": "ipython",
    "version": 3
   },
   "file_extension": ".py",
   "mimetype": "text/x-python",
   "name": "python",
   "nbconvert_exporter": "python",
   "pygments_lexer": "ipython3",
   "version": "3.6.5"
  }
 },
 "nbformat": 4,
 "nbformat_minor": 2
}
